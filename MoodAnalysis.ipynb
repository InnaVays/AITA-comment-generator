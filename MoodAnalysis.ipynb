{
 "cells": [
  {
   "cell_type": "code",
   "execution_count": 1,
   "metadata": {},
   "outputs": [],
   "source": [
    "import warnings\n",
    "warnings.filterwarnings(\"ignore\")\n",
    "\n",
    "import pandas as pd\n",
    "import numpy as np\n",
    "\n",
    "from sklearn import metrics\n",
    "\n",
    "from IPython.display import display, Markdown\n",
    "def short_print(text):\n",
    "    display(Markdown(text+'\\n'))"
   ]
  },
  {
   "cell_type": "code",
   "execution_count": 2,
   "metadata": {},
   "outputs": [],
   "source": [
    "from reddit_thread_scraper import fetch_all_posts, build_dataframe_from_posts\n",
    "\n",
    "# import dataset\n",
    "thread_name = 'AmItheAsshole'\n",
    "posts_num = 25000\n",
    "\n",
    "posts = fetch_all_posts(thread_name, posts_num)\n",
    "\n",
    "df = build_dataframe_from_posts(posts)\n",
    "\n",
    "df['NTA'] = np.where(df['first_comment'].str.contains('NTA'), 1, 0)\n",
    "\n",
    "df['text'] = df[ 'text' ].apply( str )\n",
    "df['text_len'] = df[ 'text' ].apply( len )\n",
    "\n",
    "# Consider only texts shorter than appr. 512 tokens. \n",
    "df = df[ (df['text_len'] < 500*4) & (df['num_upvotes'] > 1) ].copy()\n",
    "\n",
    "df['first_comment'] = df[ 'first_comment' ].apply( str )\n",
    "df['first_comment_len'] = df[ 'first_comment' ].apply( len )\n",
    "\n",
    "df_short = df[ (df['first_comment_len'] > 5*4)  ]"
   ]
  },
  {
   "cell_type": "markdown",
   "metadata": {},
   "source": [
    "### Let's look into the Main Sentiment. Again"
   ]
  },
  {
   "cell_type": "code",
   "execution_count": 4,
   "metadata": {},
   "outputs": [
    {
     "name": "stderr",
     "output_type": "stream",
     "text": [
      "No model was supplied, defaulted to distilbert/distilbert-base-uncased-finetuned-sst-2-english and revision af0f99b (https://huggingface.co/distilbert/distilbert-base-uncased-finetuned-sst-2-english).\n",
      "Using a pipeline without specifying a model name and revision in production is not recommended.\n"
     ]
    }
   ],
   "source": [
    "from transformers import pipeline\n",
    "\n",
    "# Initialize sentiment analysis pipeline using PyTorch\n",
    "sentiment_pipeline = pipeline('sentiment-analysis', truncation=True)\n",
    "\n",
    "def get_sentiment(text):\n",
    "    result = sentiment_pipeline(text)\n",
    "    return result[0]['label']\n",
    "\n",
    "df_short['sentiment'] = df_short['text'].apply( get_sentiment )"
   ]
  },
  {
   "cell_type": "code",
   "execution_count": 5,
   "metadata": {},
   "outputs": [
    {
     "data": {
      "text/plain": [
       "sentiment\n",
       "NEGATIVE    12097\n",
       "POSITIVE      648\n",
       "Name: count, dtype: int64"
      ]
     },
     "execution_count": 5,
     "metadata": {},
     "output_type": "execute_result"
    }
   ],
   "source": [
    "df_short['sentiment'].value_counts()"
   ]
  },
  {
   "cell_type": "code",
   "execution_count": 6,
   "metadata": {},
   "outputs": [
    {
     "name": "stdout",
     "output_type": "stream",
     "text": [
      "Average number of upvotes by sentiments: \n"
     ]
    },
    {
     "data": {
      "text/plain": [
       "sentiment\n",
       "NEGATIVE    346.620898\n",
       "POSITIVE    203.493827\n",
       "Name: num_upvotes, dtype: float64"
      ]
     },
     "execution_count": 6,
     "metadata": {},
     "output_type": "execute_result"
    }
   ],
   "source": [
    "print('Average number of upvotes by sentiments: ')\n",
    "df_short.groupby(['sentiment'])['num_upvotes'].agg('mean')"
   ]
  },
  {
   "cell_type": "markdown",
   "metadata": {},
   "source": [
    "## Existing models"
   ]
  },
  {
   "cell_type": "code",
   "execution_count": 19,
   "metadata": {},
   "outputs": [
    {
     "name": "stdout",
     "output_type": "stream",
     "text": [
      "An example of emotion classes: \n",
      "\n",
      "{'label': 'anger', 'score': 0.9841641783714294}\n",
      "{'label': 'sadness', 'score': 0.013315281830728054}\n",
      "{'label': 'joy', 'score': 0.0009154121507890522}\n",
      "{'label': 'love', 'score': 0.0007258521509356797}\n",
      "{'label': 'fear', 'score': 0.0006314266356639564}\n",
      "{'label': 'surprise', 'score': 0.00024790820316411555}\n",
      "----------------------------------------\n",
      "{'label': 'anger', 'score': 0.9558292627334595}\n",
      "{'label': 'sadness', 'score': 0.03241502121090889}\n",
      "{'label': 'fear', 'score': 0.007420215290039778}\n",
      "{'label': 'joy', 'score': 0.0034718643873929977}\n",
      "{'label': 'surprise', 'score': 0.00044146287837065756}\n",
      "{'label': 'love', 'score': 0.0004222277784720063}\n",
      "----------------------------------------\n"
     ]
    }
   ],
   "source": [
    "from transformers import AutoTokenizer, AutoModelForSequenceClassification\n",
    "from transformers import pipeline\n",
    "\n",
    "# Load GoEmotions model and tokenizer\n",
    "model_name = \"bhadresh-savani/bert-base-uncased-emotion\"\n",
    "tokenizer = AutoTokenizer.from_pretrained(model_name)\n",
    "model = AutoModelForSequenceClassification.from_pretrained(model_name)\n",
    "\n",
    "# Initialize the pipeline\n",
    "emotion_classifier = pipeline(\"text-classification\", model=model, tokenizer=tokenizer)\n",
    "\n",
    "# Create a function to classify emotions for each text\n",
    "def classify_emotions(text):\n",
    "    # Get the top emotion(s) predicted by the model\n",
    "    results = emotion_classifier(text, top_k=10)  \n",
    "    \n",
    "    return results  \n",
    "\n",
    "print(\"An example of emotion classes: \\n\")\n",
    "for text in df_short['text'][0:2]:\n",
    "    emo_list = classify_emotions( text )\n",
    "    for item in emo_list:\n",
    "        print( item )\n",
    "    print('-'*40)\n"
   ]
  },
  {
   "cell_type": "markdown",
   "metadata": {},
   "source": [
    "## What if we need more emotions?"
   ]
  },
  {
   "cell_type": "code",
   "execution_count": 8,
   "metadata": {},
   "outputs": [],
   "source": [
    "from sentence_transformers import SentenceTransformer\n",
    "\n",
    "embedding_model_name = 'mixedbread-ai/mxbai-embed-large-v1'\n",
    "\n",
    "embedding_model = SentenceTransformer(embedding_model_name)"
   ]
  },
  {
   "cell_type": "code",
   "execution_count": 9,
   "metadata": {},
   "outputs": [],
   "source": [
    "# Set a list of mood\n",
    "moods_dict = {\n",
    "    \"Angry\": \"Feeling outraged, infuriated, resentful, irate, offended, caught up in conflicts or injustice.\",\n",
    "    \"Joyful\": \"Feeling elated, delighted, content, blissful, satisfied, with a sense of positive achievement.\",\n",
    "    \"Confused\": \"Feeling perplexed, baffled, disoriented, uncertain, struggling to grasp the meaning of a situation.\",\n",
    "    \"Sad\": \"Feeling heartbroken, sorrowful, despondent, downcast, deeply touched by loss or disappointment.\",\n",
    "    \"Anxious\": \"Feeling uneasy, apprehensive, nervous, tense, worried about future events or personal relationships.\",\n",
    "    \"Vindicated\": \"Feeling validated, justified, triumphant, proven right after a dispute or long-standing disagreement.\",\n",
    "    \"Betrayed\": \"Feeling deceived, let down, disillusioned, hurt by a breach of trust in a close relationship.\",\n",
    "    \"Hopeful\": \"Feeling optimistic, confident, expectant, positive, believing that better things were on the horizon.\",\n",
    "    \"Regretful\": \"Feeling remorseful, apologetic, rueful, wishing could undo past choices or mistakes.\",\n",
    "    \"Resigned\": \"Feeling resigned, accepting, subdued, defeated, realizing there was no way to change the situation.\",\n",
    "    \"Indignant\": \"Feeling outraged, morally offended, righteous, deeply angered by perceived unfairness or wrongdoings.\",\n",
    "    \"Relieved\": \"Feeling reassured, at ease, comforted, finally free from worry after resolving a troubling issue.\",\n",
    "    \"Sentimental\": \"Feeling wistful, reflective, sentimental, longing for the past with warm and fond memories.\",\n",
    "    \"Fearful\": \"Feeling frightened, alarmed, uneasy, haunted by dread and concerns about negative outcomes.\",\n",
    "    \"Grateful\": \"Feeling thankful, appreciative, humbled, full of gratitude for the support or kindness received from others.\",\n",
    "    \"Embarrassed\": \"Feeling self-conscious, awkward, mortified, ashamed of a social misstep or personal blunder.\",\n",
    "    \"Guilty\": \"Feeling remorseful, burdened, regretful, weighed down by a sense of responsibility for my wrong actions.\",\n",
    "    \"Lonely\": \"Feeling isolated, abandoned, disconnected, yearning for companionship or emotional closeness.\",\n",
    "    \"Surprised\": \"Feeling astonished, taken aback, startled, caught off guard by something unexpected or surprising.\",\n",
    "    \"Used\": \"Feeling exploited, taken for granted, manipulated, as if someone's worth had been diminished by others' selfishness.\",\n",
    "    \"Wronged\": \"Feeling mistreated, unjustly dealt with, victimized, hurt by the unfair actions or decisions of others.\"\n",
    "}\n",
    "\n",
    "# Get mood embeddings\n",
    "mood_embeddings = {mood: embedding_model.encode([description]) for mood, description in moods_dict.items()}\n",
    "\n",
    "# Compare each post's embedding to each mood\n",
    "def assign_mood_to_post(post_embedding, mood_embeddings):\n",
    "    post_embedding = np.array(post_embedding).reshape(1, -1)\n",
    "    # Calculate cosine similarity between the post embedding and each mood embedding\n",
    "    similarities = {mood: metrics.pairwise.cosine_similarity(post_embedding, mood_embedding)[0][0] for mood, mood_embedding in mood_embeddings.items()}\n",
    "    # Find the mood with the highest similarity score\n",
    "    dominant_mood = max(similarities, key=similarities.get)\n",
    "    \n",
    "    return dominant_mood, similarities\n",
    "\n",
    "# Example of applying this to your data\n",
    "df_short['dominant_mood'] = df_short['text_embeddings'].apply(lambda embedding: assign_mood_to_post(embedding, mood_embeddings)[0])\n",
    "df_short['mood'] = df_short['text_embeddings'].apply(lambda embedding: assign_mood_to_post(embedding, mood_embeddings)[1])\n",
    "\n",
    "# Make a copy of dataset if it takes long to calculate\n",
    "#df_short.to_csv('text_vectors_mood.csv', index=None)\n"
   ]
  },
  {
   "cell_type": "code",
   "execution_count": 10,
   "metadata": {},
   "outputs": [
    {
     "name": "stdout",
     "output_type": "stream",
     "text": [
      "Average number of upvotes grouped by dominant_mood: \n"
     ]
    },
    {
     "data": {
      "text/plain": [
       "dominant_mood\n",
       "Angry          606.404255\n",
       "Regretful      506.885572\n",
       "Sad            466.170000\n",
       "Indignant      465.592920\n",
       "Embarrassed    437.767081\n",
       "Vindicated     404.347305\n",
       "Betrayed       344.655559\n",
       "Guilty         303.317896\n",
       "Grateful       277.313131\n",
       "Confused       236.166667\n",
       "Resigned       182.094340\n",
       "Relieved       176.000000\n",
       "Anxious        175.856631\n",
       "Lonely         163.659193\n",
       "Fearful         74.181818\n",
       "Joyful          49.000000\n",
       "Nostalgic       25.771930\n",
       "Surprised        7.000000\n",
       "Hopeful          5.000000\n",
       "Name: num_upvotes, dtype: float64"
      ]
     },
     "execution_count": 10,
     "metadata": {},
     "output_type": "execute_result"
    }
   ],
   "source": [
    "print('Average number of upvotes grouped by dominant_mood: ')\n",
    "df_short.groupby(['dominant_mood'])['num_upvotes'].agg('mean').sort_values(ascending=False)"
   ]
  },
  {
   "cell_type": "markdown",
   "metadata": {},
   "source": [
    "## Complex feelings"
   ]
  },
  {
   "cell_type": "code",
   "execution_count": 11,
   "metadata": {},
   "outputs": [
    {
     "data": {
      "image/png": "[encoded data removed]",
      "text/plain": [
       "<Figure size 600x600 with 1 Axes>"
      ]
     },
     "metadata": {},
     "output_type": "display_data"
    }
   ],
   "source": [
    "import matplotlib.pyplot as plt\n",
    "import numpy as np\n",
    "from sklearn.manifold import TSNE\n",
    "import seaborn as sns\n",
    "\n",
    "# Extract moods\n",
    "moods = list(mood_embeddings.keys())\n",
    "# Extract embeddings from mood_embeddings\n",
    "embeddings = np.array([mood_embeddings[mood][0] for mood in moods])  \n",
    "\n",
    "# Reduce dimensionality using t-SNE with adjusted perplexity\n",
    "# Set perplexity lower than the number of samples (moods)\n",
    "tsne = TSNE(n_components=2, perplexity=5, random_state=42)  \n",
    "reduced_embeddings = tsne.fit_transform(embeddings)\n",
    "\n",
    "# Create a scatter plot\n",
    "plt.figure(figsize=(6, 6))\n",
    "sns.set(style=\"whitegrid\")\n",
    "\n",
    "# Plot each mood as a point\n",
    "for i, mood in enumerate(moods):\n",
    "    plt.scatter(reduced_embeddings[i, 0], reduced_embeddings[i, 1])\n",
    "    plt.text(reduced_embeddings[i, 0] + 0.01, reduced_embeddings[i, 1], mood, fontsize=8)\n",
    "\n",
    "# Ensure both axes have the same limits\n",
    "plt.xlim(min(reduced_embeddings[:, 0:1]) - 20, max(reduced_embeddings[:, 0:1]) + 20)\n",
    "plt.ylim(min(reduced_embeddings[:, 0:1]) - 20, max(reduced_embeddings[:, 0:1]) + 20)\n",
    "\n",
    "# Set equal scaling for x and y axes\n",
    "plt.gca().set_aspect('equal', adjustable='box')\n",
    "\n",
    "plt.title(\"t-SNE mood visualization\", fontsize=16)\n",
    "plt.xlabel(\"Dimension 1\", fontsize=14)\n",
    "plt.ylabel(\"Dimension 2\", fontsize=14)\n",
    "plt.show()"
   ]
  },
  {
   "cell_type": "markdown",
   "metadata": {},
   "source": [
    "## Let's group by mood. Why Affinity Propagation?\n",
    "\n",
    "As it's obvious from the plot above the comples emotions tends to form their own clusters, which are hard to separate for nuance analysis. \n",
    "\n",
    "Affinity Propagation is particularly well-suited for complex clustering. It automatically discovers the optimal number of clusters without requiring a predefined value, which is crucial when clusters are intricate and multifaceted. Instead of relying on synthetic centroids, Affinity Propagation identifies exemplars (actial data points). The algorithm effectively groups poins that share subtle similarities, even when of classes are not clearly defined, making it a great fit for complex emotional content."
   ]
  },
  {
   "cell_type": "code",
   "execution_count": 12,
   "metadata": {},
   "outputs": [
    {
     "data": {
      "text/html": [
       "<div>\n",
       "<style scoped>\n",
       "    .dataframe tbody tr th:only-of-type {\n",
       "        vertical-align: middle;\n",
       "    }\n",
       "\n",
       "    .dataframe tbody tr th {\n",
       "        vertical-align: top;\n",
       "    }\n",
       "\n",
       "    .dataframe thead th {\n",
       "        text-align: right;\n",
       "    }\n",
       "</style>\n",
       "<table border=\"1\" class=\"dataframe\">\n",
       "  <thead>\n",
       "    <tr style=\"text-align: right;\">\n",
       "      <th></th>\n",
       "      <th>Angry</th>\n",
       "      <th>Joyful</th>\n",
       "      <th>Confused</th>\n",
       "      <th>Sad</th>\n",
       "      <th>Anxious</th>\n",
       "      <th>Vindicated</th>\n",
       "      <th>Betrayed</th>\n",
       "      <th>Hopeful</th>\n",
       "      <th>Regretful</th>\n",
       "      <th>Resigned</th>\n",
       "      <th>Indignant</th>\n",
       "      <th>Relieved</th>\n",
       "      <th>Nostalgic</th>\n",
       "      <th>Fearful</th>\n",
       "      <th>Grateful</th>\n",
       "      <th>Embarrassed</th>\n",
       "      <th>Guilty</th>\n",
       "      <th>Lonely</th>\n",
       "      <th>Surprised</th>\n",
       "    </tr>\n",
       "  </thead>\n",
       "  <tbody>\n",
       "    <tr>\n",
       "      <th>0</th>\n",
       "      <td>0.463483</td>\n",
       "      <td>0.389687</td>\n",
       "      <td>0.462795</td>\n",
       "      <td>0.488182</td>\n",
       "      <td>0.480671</td>\n",
       "      <td>0.504344</td>\n",
       "      <td>0.583913</td>\n",
       "      <td>0.374581</td>\n",
       "      <td>0.538539</td>\n",
       "      <td>0.459305</td>\n",
       "      <td>0.465943</td>\n",
       "      <td>0.437985</td>\n",
       "      <td>0.501560</td>\n",
       "      <td>0.439938</td>\n",
       "      <td>0.466672</td>\n",
       "      <td>0.491009</td>\n",
       "      <td>0.555854</td>\n",
       "      <td>0.483058</td>\n",
       "      <td>0.389660</td>\n",
       "    </tr>\n",
       "    <tr>\n",
       "      <th>1</th>\n",
       "      <td>0.469788</td>\n",
       "      <td>0.401722</td>\n",
       "      <td>0.453339</td>\n",
       "      <td>0.469447</td>\n",
       "      <td>0.494828</td>\n",
       "      <td>0.441002</td>\n",
       "      <td>0.519423</td>\n",
       "      <td>0.401341</td>\n",
       "      <td>0.488413</td>\n",
       "      <td>0.489325</td>\n",
       "      <td>0.420694</td>\n",
       "      <td>0.450727</td>\n",
       "      <td>0.435043</td>\n",
       "      <td>0.468733</td>\n",
       "      <td>0.481112</td>\n",
       "      <td>0.476080</td>\n",
       "      <td>0.504042</td>\n",
       "      <td>0.498512</td>\n",
       "      <td>0.408830</td>\n",
       "    </tr>\n",
       "    <tr>\n",
       "      <th>2</th>\n",
       "      <td>0.410632</td>\n",
       "      <td>0.450679</td>\n",
       "      <td>0.419070</td>\n",
       "      <td>0.463338</td>\n",
       "      <td>0.473811</td>\n",
       "      <td>0.486714</td>\n",
       "      <td>0.507374</td>\n",
       "      <td>0.403064</td>\n",
       "      <td>0.494174</td>\n",
       "      <td>0.417763</td>\n",
       "      <td>0.416433</td>\n",
       "      <td>0.442916</td>\n",
       "      <td>0.493489</td>\n",
       "      <td>0.426295</td>\n",
       "      <td>0.494778</td>\n",
       "      <td>0.470016</td>\n",
       "      <td>0.489829</td>\n",
       "      <td>0.468652</td>\n",
       "      <td>0.381527</td>\n",
       "    </tr>\n",
       "    <tr>\n",
       "      <th>3</th>\n",
       "      <td>0.457888</td>\n",
       "      <td>0.454548</td>\n",
       "      <td>0.459030</td>\n",
       "      <td>0.450468</td>\n",
       "      <td>0.481365</td>\n",
       "      <td>0.489132</td>\n",
       "      <td>0.514514</td>\n",
       "      <td>0.429001</td>\n",
       "      <td>0.490758</td>\n",
       "      <td>0.479252</td>\n",
       "      <td>0.462527</td>\n",
       "      <td>0.468236</td>\n",
       "      <td>0.434494</td>\n",
       "      <td>0.470751</td>\n",
       "      <td>0.481872</td>\n",
       "      <td>0.506983</td>\n",
       "      <td>0.491925</td>\n",
       "      <td>0.516393</td>\n",
       "      <td>0.447610</td>\n",
       "    </tr>\n",
       "    <tr>\n",
       "      <th>4</th>\n",
       "      <td>0.491471</td>\n",
       "      <td>0.460231</td>\n",
       "      <td>0.461006</td>\n",
       "      <td>0.523039</td>\n",
       "      <td>0.512098</td>\n",
       "      <td>0.471447</td>\n",
       "      <td>0.542902</td>\n",
       "      <td>0.428985</td>\n",
       "      <td>0.528173</td>\n",
       "      <td>0.564420</td>\n",
       "      <td>0.487000</td>\n",
       "      <td>0.494120</td>\n",
       "      <td>0.495475</td>\n",
       "      <td>0.499522</td>\n",
       "      <td>0.502905</td>\n",
       "      <td>0.524646</td>\n",
       "      <td>0.549600</td>\n",
       "      <td>0.503759</td>\n",
       "      <td>0.437834</td>\n",
       "    </tr>\n",
       "  </tbody>\n",
       "</table>\n",
       "</div>"
      ],
      "text/plain": [
       "      Angry    Joyful  Confused       Sad   Anxious  Vindicated  Betrayed  \\\n",
       "0  0.463483  0.389687  0.462795  0.488182  0.480671    0.504344  0.583913   \n",
       "1  0.469788  0.401722  0.453339  0.469447  0.494828    0.441002  0.519423   \n",
       "2  0.410632  0.450679  0.419070  0.463338  0.473811    0.486714  0.507374   \n",
       "3  0.457888  0.454548  0.459030  0.450468  0.481365    0.489132  0.514514   \n",
       "4  0.491471  0.460231  0.461006  0.523039  0.512098    0.471447  0.542902   \n",
       "\n",
       "    Hopeful  Regretful  Resigned  Indignant  Relieved  Nostalgic   Fearful  \\\n",
       "0  0.374581   0.538539  0.459305   0.465943  0.437985   0.501560  0.439938   \n",
       "1  0.401341   0.488413  0.489325   0.420694  0.450727   0.435043  0.468733   \n",
       "2  0.403064   0.494174  0.417763   0.416433  0.442916   0.493489  0.426295   \n",
       "3  0.429001   0.490758  0.479252   0.462527  0.468236   0.434494  0.470751   \n",
       "4  0.428985   0.528173  0.564420   0.487000  0.494120   0.495475  0.499522   \n",
       "\n",
       "   Grateful  Embarrassed    Guilty    Lonely  Surprised  \n",
       "0  0.466672     0.491009  0.555854  0.483058   0.389660  \n",
       "1  0.481112     0.476080  0.504042  0.498512   0.408830  \n",
       "2  0.494778     0.470016  0.489829  0.468652   0.381527  \n",
       "3  0.481872     0.506983  0.491925  0.516393   0.447610  \n",
       "4  0.502905     0.524646  0.549600  0.503759   0.437834  "
      ]
     },
     "execution_count": 12,
     "metadata": {},
     "output_type": "execute_result"
    }
   ],
   "source": [
    "data = pd.DataFrame( df_short['mood'].tolist()) \n",
    "\n",
    "data.head()"
   ]
  },
  {
   "cell_type": "code",
   "execution_count": 13,
   "metadata": {},
   "outputs": [
    {
     "name": "stdout",
     "output_type": "stream",
     "text": [
      "Number of exemplars:  349\n"
     ]
    }
   ],
   "source": [
    "from sklearn.cluster import AffinityPropagation\n",
    "from sklearn.preprocessing import StandardScaler\n",
    "\n",
    "# Optionally scale the data\n",
    "scaler = StandardScaler()\n",
    "scaled_data = scaler.fit_transform(data)\n",
    "\n",
    "af = AffinityPropagation(random_state=0)\n",
    "af.fit(scaled_data)\n",
    "\n",
    "# Cluster labels and exemplars\n",
    "labels = af.labels_\n",
    "exemplars = af.cluster_centers_indices_\n",
    "\n",
    "# Get the clusters associated with each exemplar\n",
    "clusters = [np.where(af.labels_ == i)[0] for i in range(len(exemplars))]\n",
    "\n",
    "# View exemplars and their associated posts\n",
    "print('Number of exemplars: ', len(exemplars))\n"
   ]
  },
  {
   "cell_type": "markdown",
   "metadata": {},
   "source": [
    "## A recipe for the drama. \n",
    "### The right proportions"
   ]
  },
  {
   "cell_type": "code",
   "execution_count": 14,
   "metadata": {},
   "outputs": [
    {
     "name": "stdout",
     "output_type": "stream",
     "text": [
      "Exemplar 0: Top 5 Moods - Surprised, Confused, Resigned, Guilty, Fearful\n",
      "Exemplar 1: Top 5 Moods - Resigned, Relieved, Sentimental, Grateful, Guilty\n",
      "Exemplar 2: Top 5 Moods - Betrayed, Confused, Guilty, Resigned, Hopeful\n",
      "Exemplar 3: Top 5 Moods - Grateful, Resigned, Used, Confused, Guilty\n",
      "Exemplar 4: Top 5 Moods - Sentimental, Resigned, Guilty, Confused, Betrayed\n",
      "Exemplar 5: Top 5 Moods - Hopeful, Grateful, Sentimental, Lonely, Guilty\n",
      "Exemplar 6: Top 5 Moods - Resigned, Relieved, Confused, Embarrassed, Hopeful\n",
      "Exemplar 7: Top 5 Moods - Resigned, Confused, Hopeful, Sentimental, Grateful\n",
      "Exemplar 8: Top 5 Moods - Confused, Wronged, Grateful, Resigned, Sad\n",
      "Exemplar 9: Top 5 Moods - Wronged, Sentimental, Relieved, Indignant, Fearful\n"
     ]
    }
   ],
   "source": [
    "from sklearn.feature_extraction.text import TfidfVectorizer\n",
    "from sklearn.metrics.pairwise import cosine_similarity\n",
    "\n",
    "exemplars_texts =  df_short['text'][exemplars]\n",
    "\n",
    "mood_descriptions = [moods_dict[mood] for mood in moods]\n",
    "\n",
    "# Step 1: Vectorize exemplars and mood descriptions using TF-IDF\n",
    "vectorizer = TfidfVectorizer()\n",
    "exemplar_vectors = vectorizer.fit_transform(exemplars_texts)\n",
    "mood_vectors = vectorizer.transform(mood_descriptions) \n",
    "\n",
    "# Step 2: Calculate similarity between each exemplar and all moods\n",
    "top_n = 5 \n",
    "exemplar_moods = []\n",
    "\n",
    "for i, exemplar_vector in enumerate(exemplar_vectors):\n",
    "    similarities = cosine_similarity(exemplar_vector, mood_vectors).flatten()\n",
    "    top_mood_indices = similarities.argsort()[-top_n:][::-1] \n",
    "    assigned_moods = [moods[index] for index in top_mood_indices]\n",
    "    exemplar_moods.append(assigned_moods)\n",
    "\n",
    "# Step 3: Print the assigned moods for each exemplar\n",
    "exemplar_moods_text = [ ', '.join(assigned_mood_list) for assigned_mood_list in exemplar_moods ]\n",
    "\n",
    "#Create a new column 'mood_label' in df_short to store the cluster mood\n",
    "df_short['mood_label'] = \"\"\n",
    "\n",
    "#Iterate over the clusters and assign mood labels\n",
    "for cluster_index, cluster in enumerate(clusters):\n",
    "    # Get the mood assigned to this cluster's exemplar\n",
    "    cluster_moods = exemplar_moods[cluster_index]\n",
    "    \n",
    "    # Combine the moods into a string, e.g., \"Sad, Anxious\"\n",
    "    mood_label = \", \".join(cluster_moods)\n",
    "    \n",
    "    #Assign the mood label to each post in the cluster\n",
    "    for post_index in cluster:\n",
    "        df_short.at[post_index, 'mood_label'] = mood_label\n",
    "        df_short.at[post_index, 'mood_cluster'] = cluster_index\n",
    "        \n",
    "for i, assigned_mood_list in enumerate(exemplar_moods[0:10]):\n",
    "    print(f\"Exemplar {i}: Top {top_n} Moods - {', '.join(assigned_mood_list)}\")"
   ]
  },
  {
   "cell_type": "markdown",
   "metadata": {},
   "source": [
    "## Inspect the combinations"
   ]
  },
  {
   "cell_type": "code",
   "execution_count": 15,
   "metadata": {},
   "outputs": [
    {
     "name": "stdout",
     "output_type": "stream",
     "text": [
      "-------------------\n"
     ]
    },
    {
     "data": {
      "text/markdown": [
       "I recently bought a certified pre-owned car with an extended warranty. Then I saw the error in my ways buying an extended warranty. I ended up refinancing my loan to reduce my APR by 3% since financing through the dealership was higher. I was told by Toyota that in order to cancel my gap insurance and extended warranty I needed to fax in a letter with certain info stating that I wanted to cancel both. I faxed it over about 3 weeks ago and never received any refund.   I called customer service back and the guy told me that my gap was automatically canceled when I refinanced but they never canceled my extended warranty then said he did not receive the fax stating I wanted to cancel. I have 30 days after purchase to get a 100% refund and they tried to make me jump through hoops to prolong that timeframe. I called customer back telling them I did submit the fax and told them the date and time as well as receiving a notification that it was successfully sent. Once he located it in their system he told me it was never canceled because it was never opened by them so it was still active. I told  them I sent it weeks ago and they had ample time to do so. He said all he can do now is cancel it and I'd get a refund check in the mail in 30 days for both.   I told him how shady they are because they seem to not want to refund me my money and I should be receiving a refund of around 4k which can be used to pay off my loan with my refinancer. I accused him of hoarding my money and stated that someone is clearly not doing their job if the fax was unviewed for 3 weeks. He said he does not know why the fax was not viewed yet but said he can process the refund now but that I would not get 100% refund anymore since it was after 30 days. I told him I faxed in the letter before the 30 days they just never processed it so it was their fault.\n"
      ],
      "text/plain": [
       "<IPython.core.display.Markdown object>"
      ]
     },
     "metadata": {},
     "output_type": "display_data"
    },
    {
     "name": "stdout",
     "output_type": "stream",
     "text": [
      "-------------------\n"
     ]
    },
    {
     "data": {
      "text/markdown": [
       "I have worked for the same person for about 18 years, it’s a small blue collar company with 16-18 employees at our largest and just him and I for several years. A few years ago he bought out another company, he screwed around and ran the business into the ground and the company is broke. I have known it was time to leave since last September but have been waiting till spring to make my move. Since November 8 employees have quit, the last 3 were a month ago, leaving just me again.   Friday I got a letter from the insurance company stating that my policy “is about to be or already has been terminated “ I had a prescription refill coming due in a week so I go to pick it up Saturday and the pharmacist informs me that my insurance policy is not good anymore. After some further investigation on the insurance app, I see where the policy is inactive since Jan 1.    I had a medical procedure done the first of the year and a follow up appointment. In the app under those claims it says that I’m responsible for the entire bill totaling about $10k.   My boss nor the last remaining office employee which is probably who handled the paperwork to cancel the insurance policy has mentioned anything about having to cancel it. In the morning I plan on confronting him about it and then plan on walking out, WIBTA if I don’t work out a notice?\n"
      ],
      "text/plain": [
       "<IPython.core.display.Markdown object>"
      ]
     },
     "metadata": {},
     "output_type": "display_data"
    },
    {
     "name": "stdout",
     "output_type": "stream",
     "text": [
      "-------------------\n"
     ]
    },
    {
     "data": {
      "text/markdown": [
       "I'm a 19 year old male and my Father 58.   Context, when I was 9 years old I got into an ATV accident at my mom's boyfriend (at the time) property. I ended up having 2 surgeries because of this and left with a narly scare on the top of. I stupidly wasn't wearing a helmet.  My dad sued the homeowners insurance company on my behalf and won a good bit of money for me that I was supposed to have access to when I turned 18 (around $110k). The original ruling was that the money was to be in a secure account and given to me in increments at the ages of 18, 21 and 25. However, my dad fought this and was given sole conservatorship over the money. He was not to spend it for himself or permission from the court.  Fast forward to when I turned 18 and my dad and I signed papers from the court terminating his conservatorship and was ordered that he transfer the money into my account. This is where the problems truly began. For the past year he's been being dodgy about the money every time I brought it up. Eventually I had enough and started demanding the money and proof that he still had it. Just last month he admitted that it was ALL GONE. I'm absolutely livid.  I contacted a lawyer for advice and how to proceed moving forward. I was told that I can sue him for \"Treble damages\" meaning that he would owe me triple of the original amount. Now to be honest my father and I have had other fall outs over the years other than the money and our relationship was already falling apart, so I really don't care what type of repercussions he would face if I move forward and sue him.   If I win the treble damage lawsuit I know he can't afford to pay me and would be forced to sell his property to pay me. This would leave him homeless. WIBTA?\n"
      ],
      "text/plain": [
       "<IPython.core.display.Markdown object>"
      ]
     },
     "metadata": {},
     "output_type": "display_data"
    },
    {
     "name": "stdout",
     "output_type": "stream",
     "text": [
      "-------------------\n"
     ]
    },
    {
     "data": {
      "text/markdown": [
       "WIBTA for calling a tow truck to collect my neighbor’s boyfriend’s car? We live in an apartment complex with assigned parking spots in a small lot, and the dude does not live here but is here daily. There are signs stating “Tenant parking only; all others will be towed”. Guests are meant to park on the street.  A few months ago, he started making his own parking spot, completely outside the painted lines, which blocks two cars from being able to maneuver through our parking lot, blocks visibility, and creates an absolute nightmare for people who actually pay rent to live here. I even tried to do him a solid by telling him about my former roommate’s parking spot that was still unassigned; the dude completely ignored me and then rather than parking his car in the unassigned spot, his girlfriend (the tenant) has parked a disabled vehicle in the spot for months. So he continues to park in his imaginary spot and block the parking lot. WIBTA for just calling a tow truck to take care of the problem?\n"
      ],
      "text/plain": [
       "<IPython.core.display.Markdown object>"
      ]
     },
     "metadata": {},
     "output_type": "display_data"
    }
   ],
   "source": [
    "for text in df_short['text'][clusters[3]]:\n",
    "    print('-------------------')\n",
    "    short_print(text.replace('\\n', ' '))\n"
   ]
  },
  {
   "cell_type": "markdown",
   "metadata": {},
   "source": [
    "What do the post's have in common? \n",
    "\n",
    "Betrayal of Trust? Looks like this. Financial repercussions as a result of the betrayal.\n",
    "\n",
    "The OPs also express strong indignation, and moral outrage at the unfairness of their situations."
   ]
  },
  {
   "cell_type": "markdown",
   "metadata": {},
   "source": [
    "## The best cluster representative... emotional blueprint\n",
    "\n",
    "Same is in the Part 1. Lets **identify the most representative text within a group of clustered data**. A function calculats the of all the text embeddings in a cluster and then finding the text that is closest to that centroid. Is it the same as exampler?\n",
    "\n",
    "Then, we **write a summery**. Once the most representative text is identified, LLM takes over. A function interacts Groq's API, and requests to generate a concise summary of the selected text. \n",
    "\n",
    "The two step approach help to distill complex content into clear representative."
   ]
  },
  {
   "cell_type": "code",
   "execution_count": 16,
   "metadata": {},
   "outputs": [],
   "source": [
    "from groq import Groq\n",
    "from sklearn.metrics import pairwise_distances_argmin_min\n",
    "\n",
    "# Groq API key\n",
    "client_grq = Groq(api_key=\"YOUR_KEY\")\n",
    "\n",
    "def get_text_for_class(df, class_name, cluster_column, text_column, vector_column):\n",
    "\n",
    "    try:\n",
    "        # Convert the vector column to a NumPy array of embeddings\n",
    "        embeddings = np.array(df[vector_column].tolist())\n",
    "\n",
    "        # Extract the embeddings for the specified class\n",
    "        class_embeddings = embeddings[df[cluster_column] == class_name]\n",
    "\n",
    "        # Check if there are any embeddings to process\n",
    "        if len(class_embeddings) == 0:\n",
    "            return None  # No data available for this class\n",
    "\n",
    "        # Calculate the centroid of the class\n",
    "        class_centroid = class_embeddings.mean(axis=0)\n",
    "\n",
    "        # Find the index of the closest text to the centroid\n",
    "        closest, _ = pairwise_distances_argmin_min([class_centroid], class_embeddings)\n",
    "\n",
    "        # Get the original index of the closest text in the DataFrame\n",
    "        original_index = df[df['mood_cluster'] == class_name].index[closest[0]]\n",
    "\n",
    "        # Return the text closest to the centroid\n",
    "        return df.loc[original_index, text_column]\n",
    "\n",
    "    except Exception as e:\n",
    "        print(f\"An error occurred: {e}\")\n",
    "        return None\n",
    "\n",
    "def get_groq_response(prompt, instruction, model=\"gemma-7b-it\"):\n",
    "    \n",
    "    try:\n",
    "\n",
    "        completion = client_grq.chat.completions.create(\n",
    "            model=model,\n",
    "            messages=[\n",
    "                {\n",
    "                    \"role\": \"system\",\"content\": instruction\n",
    "                },\n",
    "                {\n",
    "                    \"role\": \"user\", \"content\": prompt\n",
    "                }\n",
    "            ],\n",
    "            temperature=0.2,\n",
    "            max_tokens=500,\n",
    "            top_p=1,\n",
    "            stream=True,\n",
    "            stop=None,\n",
    "        )\n",
    "\n",
    "        string = ''\n",
    "        for chunk in completion:\n",
    "            string += chunk.choices[0].delta.content or \"\"\n",
    "        string = string.replace('\\n', ' ')\n",
    "        #print(string)\n",
    "        return string \n",
    "\n",
    "    except Exception as e:\n",
    "        print(f\"An error occurred: {e}\")\n",
    "        return \"No information\" \n"
   ]
  },
  {
   "cell_type": "code",
   "execution_count": 17,
   "metadata": {},
   "outputs": [
    {
     "name": "stdout",
     "output_type": "stream",
     "text": [
      "Cluster Sentimental, Resigned, Sad, Relieved, Used:\n"
     ]
    },
    {
     "data": {
      "text/markdown": [
       "**Summary:** A family with a son who has Cerebral palsy grapple with tensions and emotional conflict when their brother and sister-in-law visit, demanding to swap bedrooms due to SIL's pregnancy, despite previous arrangements and safety concerns.  **Narrator's Emotions:** Frustration, concern, protectiveness, and a sense of being misunderstood and inconsiderate.\n",
       "\n"
      ],
      "text/plain": [
       "<IPython.core.display.Markdown object>"
      ]
     },
     "metadata": {},
     "output_type": "display_data"
    },
    {
     "name": "stdout",
     "output_type": "stream",
     "text": [
      "---------------------------------------------------------\n",
      "Cluster Resigned, Guilty, Betrayed, Confused, Sentimental:\n"
     ]
    },
    {
     "data": {
      "text/markdown": [
       "**Summary:** A man is torn between attending his bio daughter's prestigious award ceremony and his stepdaughter's graduation, while his girlfriend desires him to give a family heirloom to her daughter.  **Narrator's Emotions:** The narrator feels conflicted and burdened by his familial obligations, displaying a sense of protectiveness and pride for his biological daughter while also acknowledging the significance of supporting his stepdaughter.\n",
       "\n"
      ],
      "text/plain": [
       "<IPython.core.display.Markdown object>"
      ]
     },
     "metadata": {},
     "output_type": "display_data"
    },
    {
     "name": "stdout",
     "output_type": "stream",
     "text": [
      "---------------------------------------------------------\n",
      "Cluster Resigned, Sentimental, Hopeful, Guilty, Grateful:\n"
     ]
    },
    {
     "data": {
      "text/markdown": [
       "**The narrator, an autistic teenager, feels overwhelmed and uncomfortable during their birthday celebration due to familial expectations and struggles with social interaction.**  **Emotions:** Frustration, anger, sadness, confusion, relief, guilt, defiance.\n",
       "\n"
      ],
      "text/plain": [
       "<IPython.core.display.Markdown object>"
      ]
     },
     "metadata": {},
     "output_type": "display_data"
    },
    {
     "name": "stdout",
     "output_type": "stream",
     "text": [
      "---------------------------------------------------------\n",
      "Cluster Hopeful, Confused, Resigned, Sentimental, Guilty:\n"
     ]
    },
    {
     "data": {
      "text/markdown": [
       "**Summary:** The narrator and their partner play a playful \"Peekaboo Jesus\" game during visits to their religious partners' parents, but it leads to an awkward confrontation when the mother discovers them.  **Emotions:** - Humorous: The narrator describes the game as harmless fun. - Playful: The narrator and partner's playful interaction is evident in their description of the game. - Awkward: The awkwardness of the confrontation with the partner's mother is clearly expressed. - Regretful: The narrator expresses regret over the conflict caused by the game.\n",
       "\n"
      ],
      "text/plain": [
       "<IPython.core.display.Markdown object>"
      ]
     },
     "metadata": {},
     "output_type": "display_data"
    },
    {
     "name": "stdout",
     "output_type": "stream",
     "text": [
      "---------------------------------------------------------\n",
      "Cluster Resigned, Relieved, Sentimental, Grateful, Fearful:\n"
     ]
    },
    {
     "data": {
      "text/markdown": [
       "**Story Summary:** The narrator describes ongoing conflict with her boyfriend's little sister, C, who harasses her and constantly wears a cat-ear headband.  **Narrator's Emotions:** Frustration, annoyance, and a sense of being belittled and disrespected.\n",
       "\n"
      ],
      "text/plain": [
       "<IPython.core.display.Markdown object>"
      ]
     },
     "metadata": {},
     "output_type": "display_data"
    },
    {
     "name": "stdout",
     "output_type": "stream",
     "text": [
      "---------------------------------------------------------\n",
      "Cluster Resigned, Confused, Hopeful, Sentimental, Guilty:\n"
     ]
    },
    {
     "data": {
      "text/markdown": [
       "**Summary:** A conflict arose when the narrator accused his girlfriend of manipulating him, leading to an argument where he insulted her intelligence and accused her of using psychology to control him.  **Emotions:** Anger, insecurity, and mistrust. The narrator's past experiences with abusers have triggered a sensitivity to manipulation, leading to inappropriate and hurtful words.\n",
       "\n"
      ],
      "text/plain": [
       "<IPython.core.display.Markdown object>"
      ]
     },
     "metadata": {},
     "output_type": "display_data"
    },
    {
     "name": "stdout",
     "output_type": "stream",
     "text": [
      "---------------------------------------------------------\n",
      "Cluster Resigned, Hopeful, Confused, Sentimental, Grateful:\n"
     ]
    },
    {
     "data": {
      "text/markdown": [
       "**Summary:** The narrator feels betrayed after her close friend undermined her floral arrangements at her wedding by creating much more elaborate centerpieces for the bridal table.  **Emotions:** Anger, betrayal, disappointment, confusion.\n",
       "\n"
      ],
      "text/plain": [
       "<IPython.core.display.Markdown object>"
      ]
     },
     "metadata": {},
     "output_type": "display_data"
    },
    {
     "name": "stdout",
     "output_type": "stream",
     "text": [
      "---------------------------------------------------------\n",
      "Cluster Guilty, Confused, Grateful, Resigned, Vindicated:\n"
     ]
    },
    {
     "data": {
      "text/markdown": [
       "**Story Summary:** The narrator is in conflict with her sister over the latter's revealing clothing choices, which she believes are inappropriate for their shared living situation with their young child.  **Narrator's Emotions:** Frustration, annoyance, and a sense of responsibility for the well-being of her child.\n",
       "\n"
      ],
      "text/plain": [
       "<IPython.core.display.Markdown object>"
      ]
     },
     "metadata": {},
     "output_type": "display_data"
    },
    {
     "name": "stdout",
     "output_type": "stream",
     "text": [
      "---------------------------------------------------------\n",
      "Cluster Confused, Hopeful, Sentimental, Resigned, Used:\n"
     ]
    },
    {
     "data": {
      "text/markdown": [
       "**Story Summary:** The narrator, a paramedic, experiences frustration and pain after discovering a broken microwave, suspecting a friend named Kris Butter is responsible.  **Narrator's Emotions:** - Frustration and annoyance at the broken microwave. - Anger and suspicion towards Kris Butter. - Humility and self-deprecation regarding his own injury.\n",
       "\n"
      ],
      "text/plain": [
       "<IPython.core.display.Markdown object>"
      ]
     },
     "metadata": {},
     "output_type": "display_data"
    },
    {
     "name": "stdout",
     "output_type": "stream",
     "text": [
      "---------------------------------------------------------\n",
      "Cluster Hopeful, Relieved, Guilty, Grateful, Resigned:\n"
     ]
    },
    {
     "data": {
      "text/markdown": [
       "**Summary:** The narrator feels undervalued and burdened by household responsibilities despite previously agreeing with his mother that he would handle groceries and she would cook.  **Narrator's Emotions:** Frustration, resentment, exhaustion, and a sense of unfairness.\n",
       "\n"
      ],
      "text/plain": [
       "<IPython.core.display.Markdown object>"
      ]
     },
     "metadata": {},
     "output_type": "display_data"
    },
    {
     "name": "stdout",
     "output_type": "stream",
     "text": [
      "---------------------------------------------------------\n"
     ]
    }
   ],
   "source": [
    "popularity_table = df_short.groupby(['mood_cluster'])['num_upvotes'].agg('mean').sort_values(ascending=False)\n",
    "popularity_table.head(10)\n",
    "\n",
    "instr = 'Summarize the story in one sentence. Define emotions of the narrator.'\n",
    "\n",
    "for idx in popularity_table.index[0:10]:\n",
    "    text = get_text_for_class(df_short, idx, 'mood_cluster','text', 'text_embeddings')\n",
    "    \n",
    "    if text:  # Ensure that text is not None before proceeding\n",
    "        summary = get_groq_response(text, instr, model=\"gemma-7b-it\")\n",
    "        print(f\"Cluster { df_short[df_short['mood_cluster'] == idx]['mood_label'].values[0] }:\")\n",
    "        short_print(summary+ '\\n')\n",
    "        print(\"---------------------------------------------------------\")\n",
    "        \n",
    "    else:\n",
    "        print(f\"No representative text found.\")\n",
    "\n",
    "    "
   ]
  }
 ],
 "metadata": {
  "kernelspec": {
   "display_name": "Python 3",
   "language": "python",
   "name": "python3"
  },
  "language_info": {
   "codemirror_mode": {
    "name": "ipython",
    "version": 3
   },
   "file_extension": ".py",
   "mimetype": "text/x-python",
   "name": "python",
   "nbconvert_exporter": "python",
   "pygments_lexer": "ipython3",
   "version": "3.10.12"
  }
 },
 "nbformat": 4,
 "nbformat_minor": 2
}
